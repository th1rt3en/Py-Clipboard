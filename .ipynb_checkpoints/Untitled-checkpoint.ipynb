{
 "cells": [
  {
   "cell_type": "code",
   "execution_count": 1,
   "metadata": {},
   "outputs": [],
   "source": [
    "import pyperclip as pc\n",
    "from keyboard import *\n",
    "from Tkinter import *\n",
    "from ttk import *\n",
    "from time import ctime, sleep\n",
    "import re"
   ]
  },
  {
   "cell_type": "code",
   "execution_count": 2,
   "metadata": {},
   "outputs": [],
   "source": [
    "s = []"
   ]
  },
  {
   "cell_type": "code",
   "execution_count": 3,
   "metadata": {},
   "outputs": [],
   "source": [
    "def func():\n",
    "    sleep(0.1)\n",
    "    global s\n",
    "    s += [[ctime(), pc.paste()]]"
   ]
  },
  {
   "cell_type": "code",
   "execution_count": 4,
   "metadata": {},
   "outputs": [],
   "source": [
    "def clean(string):\n",
    "    return ''.join(map(lambda x: x.strip(), string.split('\\n')))"
   ]
  },
  {
   "cell_type": "code",
   "execution_count": 5,
   "metadata": {},
   "outputs": [],
   "source": [
    "def hour(time):\n",
    "    return re.findall(r'\\d{1,2}:\\d{1,2}:\\d{1,2}', time)[0]"
   ]
  },
  {
   "cell_type": "code",
   "execution_count": 6,
   "metadata": {},
   "outputs": [],
   "source": [
    "def clear(root):\n",
    "    s[:] = []\n",
    "    root.destroy()\n",
    "    run()"
   ]
  },
  {
   "cell_type": "code",
   "execution_count": 7,
   "metadata": {},
   "outputs": [],
   "source": [
    "def run():\n",
    "    sleep(0.1)\n",
    "    root = Tk()\n",
    "    note = Notebook(root)\n",
    "    for i in range(~-len(s)/10 + 1):\n",
    "        tab = Frame(note)\n",
    "        Label(tab, text = 'Time').grid(row = 0, column = 0)\n",
    "        Separator(tab, orient=VERTICAL).grid(row = 0, column = 1, sticky = 'ns')\n",
    "        Label(tab, text = 'Content').grid(row = 0, column = 2)\n",
    "        Separator(tab, orient=VERTICAL).grid(row = 0, column = 3, sticky = 'ns')\n",
    "        Label(tab, text = 'Action').grid(row = 0, column = 4)\n",
    "        Separator(tab, orient=HORIZONTAL).grid(row = 1, columnspan=5, sticky = 'we')\n",
    "        for j in range(min(len(s)-i*10, 10)):\n",
    "            Label(tab, text = '%s' % hour(s[::-1][i*10+j][0])).grid(row = j+2, column = 0)\n",
    "            Separator(tab, orient=VERTICAL).grid(row = j+2, column = 1, sticky = 'ns')\n",
    "            Label(tab, text = '%.30s' % clean(s[::-1][i*10+j][1])).grid(row = j+2, column = 2)\n",
    "            Separator(tab, orient=VERTICAL).grid(row = j+2, column = 3, sticky = 'ns')\n",
    "            Button(tab, text = 'Copy', command = lambda: pc.copy(s[::-1][i*10+j][1])).grid(row = j+2, column = 4)\n",
    "        note.add(tab, text = 'Page ' + str(i+1))\n",
    "    note.pack()\n",
    "    if not len(s):\n",
    "        Label(root, text = 'Clipboard is empty').pack()\n",
    "    Button(root, text = 'Clear', command = lambda: clear(root)).pack(side=BOTTOM)\n",
    "    root.wm_attributes(\"-topmost\", 1)\n",
    "    root.after(200, lambda: root.focus_force())\n",
    "    root.title('PyClipboard')\n",
    "    root.mainloop()"
   ]
  },
  {
   "cell_type": "code",
   "execution_count": 8,
   "metadata": {},
   "outputs": [
    {
     "data": {
      "text/plain": [
       "<function keyboard.remove_>"
      ]
     },
     "execution_count": 8,
     "metadata": {},
     "output_type": "execute_result"
    }
   ],
   "source": [
    "add_hotkey('ctrl+c', func)\n",
    "add_hotkey('ctrl+b', run)"
   ]
  },
  {
   "cell_type": "code",
   "execution_count": null,
   "metadata": {},
   "outputs": [],
   "source": []
  },
  {
   "cell_type": "code",
   "execution_count": null,
   "metadata": {},
   "outputs": [],
   "source": []
  }
 ],
 "metadata": {
  "kernelspec": {
   "display_name": "Python 2",
   "language": "python",
   "name": "python2"
  },
  "language_info": {
   "codemirror_mode": {
    "name": "ipython",
    "version": 2
   },
   "file_extension": ".py",
   "mimetype": "text/x-python",
   "name": "python",
   "nbconvert_exporter": "python",
   "pygments_lexer": "ipython2",
   "version": "2.7.14"
  }
 },
 "nbformat": 4,
 "nbformat_minor": 2
}
