{
 "cells": [
  {
   "cell_type": "code",
   "execution_count": 1,
   "metadata": {},
   "outputs": [],
   "source": [
    "import pyperclip as pc\n",
    "from keyboard import *\n",
    "from Tkinter import *\n",
    "from ttk import *\n",
    "from time import ctime, sleep\n",
    "import re"
   ]
  },
  {
   "cell_type": "code",
   "execution_count": 2,
   "metadata": {},
   "outputs": [],
   "source": [
    "s = []"
   ]
  },
  {
   "cell_type": "code",
   "execution_count": 3,
   "metadata": {},
   "outputs": [],
   "source": [
    "def func():\n",
    "    sleep(0.1)\n",
    "    global s\n",
    "    s += [[ctime(), pc.paste()]]"
   ]
  },
  {
   "cell_type": "code",
   "execution_count": 4,
   "metadata": {},
   "outputs": [],
   "source": [
    "def clean(string):\n",
    "    return ''.join(map(lambda x: x.strip(), string.split('\\n')))"
   ]
  },
  {
   "cell_type": "code",
   "execution_count": 5,
   "metadata": {},
   "outputs": [],
   "source": [
    "def hour(time):\n",
    "    return re.findall(r'\\d{1,2}:\\d{1,2}:\\d{1,2}', time)[0]"
   ]
  },
  {
   "cell_type": "code",
   "execution_count": 6,
   "metadata": {},
   "outputs": [],
   "source": [
    "def clear():\n",
    "    s[:] = []"
   ]
  },
  {
   "cell_type": "code",
   "execution_count": 7,
   "metadata": {},
   "outputs": [],
   "source": [
    "def run():\n",
    "    sleep(0.1)\n",
    "    root = Tk()\n",
    "    note = Notebook(root)\n",
    "    for i in range(~-len(s)/10 + 1):\n",
    "        tab = Frame(note)\n",
    "        for j in range(min(len(s)-i*10, 10)):\n",
    "            Label(tab, text = '%s : %.30s' % (hour(s[::-1][i*10+j][0]), clean(s[::-1][i*10+j][1]))).grid(row=j, column=0)\n",
    "            Button(tab, text = 'Copy', command = lambda: pc.copy(s[::-1][i*10+j][1])).grid(row=j, column=1)\n",
    "        note.add(tab, text = 'Page ' + str(i+1))\n",
    "    note.pack()\n",
    "    Button(root, text = 'Clear', command = clear).pack(side=BOTTOM)\n",
    "    root.wm_attributes(\"-topmost\", 1)\n",
    "    root.after(200, lambda: root.focus_force())\n",
    "    root.title('PyClipboard')\n",
    "    root.mainloop()"
   ]
  },
  {
   "cell_type": "code",
   "execution_count": 8,
   "metadata": {},
   "outputs": [
    {
     "data": {
      "text/plain": [
       "<function keyboard.remove_>"
      ]
     },
     "execution_count": 8,
     "metadata": {},
     "output_type": "execute_result"
    }
   ],
   "source": [
    "add_hotkey('ctrl+c', func)\n",
    "add_hotkey('ctrl+b', run)"
   ]
  },
  {
   "cell_type": "code",
   "execution_count": 9,
   "metadata": {},
   "outputs": [
    {
     "data": {
      "text/plain": [
       "\u001b[1;31mInit signature:\u001b[0m \u001b[0mTk\u001b[0m\u001b[1;33m(\u001b[0m\u001b[0mself\u001b[0m\u001b[1;33m,\u001b[0m \u001b[0mscreenName\u001b[0m\u001b[1;33m=\u001b[0m\u001b[0mNone\u001b[0m\u001b[1;33m,\u001b[0m \u001b[0mbaseName\u001b[0m\u001b[1;33m=\u001b[0m\u001b[0mNone\u001b[0m\u001b[1;33m,\u001b[0m \u001b[0mclassName\u001b[0m\u001b[1;33m=\u001b[0m\u001b[1;34m'Tk'\u001b[0m\u001b[1;33m,\u001b[0m \u001b[0museTk\u001b[0m\u001b[1;33m=\u001b[0m\u001b[1;36m1\u001b[0m\u001b[1;33m,\u001b[0m \u001b[0msync\u001b[0m\u001b[1;33m=\u001b[0m\u001b[1;36m0\u001b[0m\u001b[1;33m,\u001b[0m \u001b[0muse\u001b[0m\u001b[1;33m=\u001b[0m\u001b[0mNone\u001b[0m\u001b[1;33m)\u001b[0m\u001b[1;33m\u001b[0m\u001b[0m\n",
       "\u001b[1;31mDocstring:\u001b[0m     \n",
       "Toplevel widget of Tk which represents mostly the main window\n",
       "of an application. It has an associated Tcl interpreter.\n",
       "\u001b[1;31mInit docstring:\u001b[0m\n",
       "Return a new Toplevel widget on screen SCREENNAME. A new Tcl interpreter will\n",
       "be created. BASENAME will be used for the identification of the profile file (see\n",
       "readprofile).\n",
       "It is constructed from sys.argv[0] without extensions if None is given. CLASSNAME\n",
       "is the name of the widget class.\n",
       "\u001b[1;31mFile:\u001b[0m           d:\\tools\\anaconda\\lib\\lib-tk\\tkinter.py\n",
       "\u001b[1;31mType:\u001b[0m           classobj\n"
      ]
     },
     "metadata": {},
     "output_type": "display_data"
    }
   ],
   "source": [
    "?Tk"
   ]
  }
 ],
 "metadata": {
  "kernelspec": {
   "display_name": "Python 2",
   "language": "python",
   "name": "python2"
  },
  "language_info": {
   "codemirror_mode": {
    "name": "ipython",
    "version": 2
   },
   "file_extension": ".py",
   "mimetype": "text/x-python",
   "name": "python",
   "nbconvert_exporter": "python",
   "pygments_lexer": "ipython2",
   "version": "2.7.14"
  }
 },
 "nbformat": 4,
 "nbformat_minor": 2
}
